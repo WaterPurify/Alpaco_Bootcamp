{
  "cells": [
    {
      "cell_type": "markdown",
      "metadata": {
        "id": "view-in-github",
        "colab_type": "text"
      },
      "source": [
        "<a href=\"https://colab.research.google.com/github/WaterPurify/Alpaco_Bootcamp/blob/main/2_Natural%20Language%20%26%20Speech%20Recognition/Team_project/WhisperAI_fine_tune_train.ipynb\" target=\"_parent\"><img src=\"https://colab.research.google.com/assets/colab-badge.svg\" alt=\"Open In Colab\"/></a>"
      ]
    },
    {
      "cell_type": "markdown",
      "metadata": {
        "id": "pnHJ_GKIahDD"
      },
      "source": [
        "# 🤗 Transformer를 적용한 다국어 자동 음성 (ASR)을 Whisper에 fine-tuning\n",
        "\n",
        "*   Step-by-step guide on how to fine-tune Whisper for any multilingual ASR dataset using Hugging Face 🤗 Transformers.\n",
        "*   For a more in-depth explanation of Whisper, the Common Voice dataset and the theory behind fine-tuning, the reader is advised to refer to the blog post.[blog post](https://huggingface.co/blog/fine-tune-whisper).\n",
        "\n"
      ]
    },
    {
      "cell_type": "markdown",
      "metadata": {
        "id": "CBRJSUMWbjc2"
      },
      "source": [
        "## Introduction\n",
        "\n",
        "*   Whisper\n",
        "    * A pre-trained model for automatic speech recognition (ASR) published in September 2022 by the authors Alec Radford et al. from OpenAI.\n",
        "    *  Pre-trained on a vast quantity of labelled audio-transcription data, 680,000 hours to be precise\n",
        "    * Demonstrate a strong ability to generalise to many datasets and domains\n"
      ]
    },
    {
      "cell_type": "markdown",
      "metadata": {
        "id": "cfdVCZ4zcjCL"
      },
      "source": [
        "<figure>\n",
        "<img src=\"https://raw.githubusercontent.com/sanchit-gandhi/notebooks/main/whisper_architecture.svg\" alt=\"Trulli\" style=\"width:100%\">\n",
        "<figcaption align = \"center\"><b>Figure 1:</b> Whisper model. The architecture\n",
        "follows the standard Transformer-based encoder-decoder model. A\n",
        "log-Mel spectrogram is input to the encoder. The last encoder\n",
        "hidden states are input to the decoder via cross-attention mechanisms. The\n",
        "decoder autoregressively predicts text tokens, jointly conditional on the\n",
        "encoder hidden states and previously predicted tokens. Figure source:\n",
        "<a href=\"https://openai.com/blog/whisper/\">OpenAI Whisper Blog</a>.</figcaption>\n",
        "</figure>"
      ]
    },
    {
      "cell_type": "markdown",
      "metadata": {
        "id": "V6sojvLTctX5"
      },
      "source": [
        "* Five configurations of varying model sizes.\n",
        "    1. The smallest four trained on either English-only or multilingual data.\n",
        "    2. The largest checkpoints  multilingual only.\n",
        "    \n",
        "* All 11 of the pre-trained checkpoints are available on the [Hugging Face Hub](https://huggingface.co/models?search=openai/whisper).\n",
        "\n",
        "* The checkpoints are summarised in the following table with links to the models on the Hub:\n",
        "\n",
        "| Size     | Layers | Width | Heads | Parameters | English-only                                         | Multilingual                                        |\n",
        "|----------|--------|-------|-------|------------|------------------------------------------------------|-----------------------------------------------------|\n",
        "| tiny     | 4      | 384   | 6     | 39 M       | [✓](https://huggingface.co/openai/whisper-tiny.en)   | [✓](https://huggingface.co/openai/whisper-tiny.)    |\n",
        "| base     | 6      | 512   | 8     | 74 M       | [✓](https://huggingface.co/openai/whisper-base.en)   | [✓](https://huggingface.co/openai/whisper-base)     |\n",
        "| small    | 12     | 768   | 12    | 244 M      | [✓](https://huggingface.co/openai/whisper-small.en)  | [✓](https://huggingface.co/openai/whisper-small)    |\n",
        "| medium   | 24     | 1024  | 16    | 769 M      | [✓](https://huggingface.co/openai/whisper-medium.en) | [✓](https://huggingface.co/openai/whisper-medium)   |\n",
        "| large    | 32     | 1280  | 20    | 1550 M     | x                                                    | [✓](https://huggingface.co/openai/whisper-large)    |\n",
        "| large-v2 | 32     | 1280  | 20    | 1550 M     | x                                                    | [✓](https://huggingface.co/openai/whisper-large-v2) |\n",
        "| large-v3 | 32     | 1280  | 20    | 1550 M     | x                                                    | [✓](https://huggingface.co/openai/whisper-large-v3) |\n",
        "\n",
        "\n",
        "* Fine-tune the multilingual version of the\n",
        "[`\"small\"`](https://huggingface.co/openai/whisper-small) checkpoint with 244M params (~= 1GB).\n",
        "* Train and evaluate our system on a low-resource language\n",
        "taken from the [Common Voice](https://huggingface.co/datasets/mozilla-foundation/common_voice_11_0)\n",
        "dataset.\n",
        "* 8 hour fine-tuning of Whisper AI can acheive strong performance in our Korean language for old peaple."
      ]
    },
    {
      "cell_type": "markdown",
      "metadata": {
        "id": "TfJMEMQcgvl1"
      },
      "source": [
        "## Prepare Environment\n",
        "\n",
        "1. GPU setting\n",
        "    *  click _Runtime_ -> _Change runtime type_, then change _Hardware accelerator_ from _CPU_ to one of the available GPUs, e.g. _T4_ (or better if you have one available). Next, click `Connect T4` in the top right-hand corner of your screen (or `Connect {V100, A100}` if you selected a different GPU)."
      ]
    },
    {
      "cell_type": "markdown",
      "metadata": {
        "id": "Vtp4i1EqhWf2"
      },
      "source": [
        "We can verify that we've been assigned a GPU and view its specifications:"
      ]
    },
    {
      "cell_type": "code",
      "execution_count": 4,
      "metadata": {
        "colab": {
          "base_uri": "https://localhost:8080/"
        },
        "id": "PEupPc6aaggY",
        "outputId": "2e4d65ac-487e-4a1b-b8af-624c6aee8f25"
      },
      "outputs": [
        {
          "output_type": "stream",
          "name": "stdout",
          "text": [
            "Wed Apr 24 03:53:55 2024       \n",
            "+---------------------------------------------------------------------------------------+\n",
            "| NVIDIA-SMI 535.104.05             Driver Version: 535.104.05   CUDA Version: 12.2     |\n",
            "|-----------------------------------------+----------------------+----------------------+\n",
            "| GPU  Name                 Persistence-M | Bus-Id        Disp.A | Volatile Uncorr. ECC |\n",
            "| Fan  Temp   Perf          Pwr:Usage/Cap |         Memory-Usage | GPU-Util  Compute M. |\n",
            "|                                         |                      |               MIG M. |\n",
            "|=========================================+======================+======================|\n",
            "|   0  Tesla T4                       Off | 00000000:00:04.0 Off |                    0 |\n",
            "| N/A   41C    P8               9W /  70W |      0MiB / 15360MiB |      0%      Default |\n",
            "|                                         |                      |                  N/A |\n",
            "+-----------------------------------------+----------------------+----------------------+\n",
            "                                                                                         \n",
            "+---------------------------------------------------------------------------------------+\n",
            "| Processes:                                                                            |\n",
            "|  GPU   GI   CI        PID   Type   Process name                            GPU Memory |\n",
            "|        ID   ID                                                             Usage      |\n",
            "|=======================================================================================|\n",
            "|  No running processes found                                                           |\n",
            "+---------------------------------------------------------------------------------------+\n"
          ]
        }
      ],
      "source": [
        "gpu_info = !nvidia-smi\n",
        "gpu_info = '\\n'.join(gpu_info)\n",
        "if gpu_info.find('failed') >= 0:\n",
        "  print('Not connected to a GPU')\n",
        "else:\n",
        "  print(gpu_info)"
      ]
    },
    {
      "cell_type": "markdown",
      "metadata": {
        "id": "bQnnNJUkhgbC"
      },
      "source": [
        "* Employ poplular Pytohn packages\n",
        "\n",
        "    1. Use `datasets[audio]` to download and prepare our training data\n",
        "    2. `Transformers` and `accelerate` to load and train our Whisper model\n",
        "    3. `soundfile` package to pre-process audio files\n",
        "    4. `evaluate` and `jiwer` to assess the performance of our model\n",
        "    5. `tensorboard` to log our metrics\n",
        "    6.  `gradio` to build a\n",
        "flashy demo of our fine-tuned model."
      ]
    },
    {
      "cell_type": "code",
      "execution_count": null,
      "metadata": {
        "colab": {
          "base_uri": "https://localhost:8080/"
        },
        "id": "MUYTIheoknO5",
        "outputId": "944917b4-f71d-4a28-ba8e-0471a5865faa"
      },
      "outputs": [
        {
          "output_type": "stream",
          "name": "stdout",
          "text": [
            "\u001b[2K     \u001b[90m━━━━━━━━━━━━━━━━━━━━━━━━━━━━━━━━━━━━━━━━\u001b[0m \u001b[32m2.1/2.1 MB\u001b[0m \u001b[31m10.6 MB/s\u001b[0m eta \u001b[36m0:00:00\u001b[0m\n",
            "\u001b[2K     \u001b[90m━━━━━━━━━━━━━━━━━━━━━━━━━━━━━━━━━━━━━━━━\u001b[0m \u001b[32m138.0/138.0 kB\u001b[0m \u001b[31m1.4 MB/s\u001b[0m eta \u001b[36m0:00:00\u001b[0m\n",
            "\u001b[?25h  Preparing metadata (setup.py) ... \u001b[?25l\u001b[?25hdone\n",
            "\u001b[2K     \u001b[90m━━━━━━━━━━━━━━━━━━━━━━━━━━━━━━━━━━━━━━━━\u001b[0m \u001b[32m49.7/49.7 kB\u001b[0m \u001b[31m3.2 MB/s\u001b[0m eta \u001b[36m0:00:00\u001b[0m\n",
            "\u001b[2K   \u001b[90m━━━━━━━━━━━━━━━━━━━━━━━━━━━━━━━━━━━━━━━━\u001b[0m \u001b[32m9.0/9.0 MB\u001b[0m \u001b[31m31.3 MB/s\u001b[0m eta \u001b[36m0:00:00\u001b[0m\n",
            "\u001b[2K   \u001b[90m━━━━━━━━━━━━━━━━━━━━━━━━━━━━━━━━━━━━━━━━\u001b[0m \u001b[32m297.6/297.6 kB\u001b[0m \u001b[31m23.7 MB/s\u001b[0m eta \u001b[36m0:00:00\u001b[0m\n",
            "\u001b[2K   \u001b[90m━━━━━━━━━━━━━━━━━━━━━━━━━━━━━━━━━━━━━━━━\u001b[0m \u001b[32m84.1/84.1 kB\u001b[0m \u001b[31m7.6 MB/s\u001b[0m eta \u001b[36m0:00:00\u001b[0m\n",
            "\u001b[2K   \u001b[90m━━━━━━━━━━━━━━━━━━━━━━━━━━━━━━━━━━━━━━━━\u001b[0m \u001b[32m5.5/5.5 MB\u001b[0m \u001b[31m44.9 MB/s\u001b[0m eta \u001b[36m0:00:00\u001b[0m\n",
            "\u001b[2K   \u001b[90m━━━━━━━━━━━━━━━━━━━━━━━━━━━━━━━━━━━━━━━━\u001b[0m \u001b[32m17.1/17.1 MB\u001b[0m \u001b[31m55.3 MB/s\u001b[0m eta \u001b[36m0:00:00\u001b[0m\n",
            "\u001b[2K   \u001b[90m━━━━━━━━━━━━━━━━━━━━━━━━━━━━━━━━━━━━━━━━\u001b[0m \u001b[32m313.6/313.6 kB\u001b[0m \u001b[31m24.7 MB/s\u001b[0m eta \u001b[36m0:00:00\u001b[0m\n",
            "\u001b[2K   \u001b[90m━━━━━━━━━━━━━━━━━━━━━━━━━━━━━━━━━━━━━━━━\u001b[0m \u001b[32m542.0/542.0 kB\u001b[0m \u001b[31m33.3 MB/s\u001b[0m eta \u001b[36m0:00:00\u001b[0m\n",
            "\u001b[2K   \u001b[90m━━━━━━━━━━━━━━━━━━━━━━━━━━━━━━━━━━━━━━━━\u001b[0m \u001b[32m116.3/116.3 kB\u001b[0m \u001b[31m10.5 MB/s\u001b[0m eta \u001b[36m0:00:00\u001b[0m\n",
            "\u001b[2K   \u001b[90m━━━━━━━━━━━━━━━━━━━━━━━━━━━━━━━━━━━━━━━━\u001b[0m \u001b[32m75.6/75.6 kB\u001b[0m \u001b[31m7.0 MB/s\u001b[0m eta \u001b[36m0:00:00\u001b[0m\n",
            "\u001b[2K   \u001b[90m━━━━━━━━━━━━━━━━━━━━━━━━━━━━━━━━━━━━━━━━\u001b[0m \u001b[32m77.9/77.9 kB\u001b[0m \u001b[31m6.7 MB/s\u001b[0m eta \u001b[36m0:00:00\u001b[0m\n",
            "\u001b[2K   \u001b[90m━━━━━━━━━━━━━━━━━━━━━━━━━━━━━━━━━━━━━━━━\u001b[0m \u001b[32m388.9/388.9 kB\u001b[0m \u001b[31m32.5 MB/s\u001b[0m eta \u001b[36m0:00:00\u001b[0m\n",
            "\u001b[2K   \u001b[90m━━━━━━━━━━━━━━━━━━━━━━━━━━━━━━━━━━━━━━━━\u001b[0m \u001b[32m141.1/141.1 kB\u001b[0m \u001b[31m12.6 MB/s\u001b[0m eta \u001b[36m0:00:00\u001b[0m\n",
            "\u001b[2K   \u001b[90m━━━━━━━━━━━━━━━━━━━━━━━━━━━━━━━━━━━━━━━━\u001b[0m \u001b[32m3.4/3.4 MB\u001b[0m \u001b[31m56.4 MB/s\u001b[0m eta \u001b[36m0:00:00\u001b[0m\n",
            "\u001b[2K   \u001b[90m━━━━━━━━━━━━━━━━━━━━━━━━━━━━━━━━━━━━━━━━\u001b[0m \u001b[32m8.7/8.7 MB\u001b[0m \u001b[31m65.2 MB/s\u001b[0m eta \u001b[36m0:00:00\u001b[0m\n",
            "\u001b[2K   \u001b[90m━━━━━━━━━━━━━━━━━━━━━━━━━━━━━━━━━━━━━━━━\u001b[0m \u001b[32m410.6/410.6 MB\u001b[0m \u001b[31m4.0 MB/s\u001b[0m eta \u001b[36m0:00:00\u001b[0m\n",
            "\u001b[2K   \u001b[90m━━━━━━━━━━━━━━━━━━━━━━━━━━━━━━━━━━━━━━━━\u001b[0m \u001b[32m14.1/14.1 MB\u001b[0m \u001b[31m51.3 MB/s\u001b[0m eta \u001b[36m0:00:00\u001b[0m\n",
            "\u001b[2K   \u001b[90m━━━━━━━━━━━━━━━━━━━━━━━━━━━━━━━━━━━━━━━━\u001b[0m \u001b[32m23.7/23.7 MB\u001b[0m \u001b[31m32.6 MB/s\u001b[0m eta \u001b[36m0:00:00\u001b[0m\n",
            "\u001b[2K   \u001b[90m━━━━━━━━━━━━━━━━━━━━━━━━━━━━━━━━━━━━━━━━\u001b[0m \u001b[32m823.6/823.6 kB\u001b[0m \u001b[31m27.9 MB/s\u001b[0m eta \u001b[36m0:00:00\u001b[0m\n",
            "\u001b[2K   \u001b[90m━━━━━━━━━━━━━━━━━━━━━━━━━━━━━━━━━━━━━━━━\u001b[0m \u001b[32m731.7/731.7 MB\u001b[0m \u001b[31m2.4 MB/s\u001b[0m eta \u001b[36m0:00:00\u001b[0m\n",
            "\u001b[2K   \u001b[90m━━━━━━━━━━━━━━━━━━━━━━━━━━━━━━━━━━━━━━━━\u001b[0m \u001b[32m121.6/121.6 MB\u001b[0m \u001b[31m4.1 MB/s\u001b[0m eta \u001b[36m0:00:00\u001b[0m\n",
            "\u001b[2K   \u001b[90m━━━━━━━━━━━━━━━━━━━━━━━━━━━━━━━━━━━━━━━━\u001b[0m \u001b[32m56.5/56.5 MB\u001b[0m \u001b[31m4.9 MB/s\u001b[0m eta \u001b[36m0:00:00\u001b[0m\n",
            "\u001b[2K   \u001b[91m━━━━━━━━━━━━━━━\u001b[0m\u001b[91m╸\u001b[0m\u001b[90m━━━━━━━━━━━━━━━━━━━━━━━━\u001b[0m \u001b[32m49.6/124.2 MB\u001b[0m \u001b[31m7.9 MB/s\u001b[0m eta \u001b[36m0:00:10\u001b[0m"
          ]
        }
      ],
      "source": [
        "!pip install --upgrade --quiet pip\n",
        "!pip install --upgrade --quiet datasets[audio] transformers accelerate evaluate jiwer tensorboard gradio"
      ]
    },
    {
      "cell_type": "code",
      "execution_count": null,
      "metadata": {
        "id": "F4K23qKYlmKA"
      },
      "outputs": [],
      "source": [
        "#spacy 3.7.4 requires typer<0.10.0,>=0.3.0, but you have typer 0.12.3 which is incompatible.\n",
        "!pip install typer==0.9.1\n"
      ]
    },
    {
      "cell_type": "code",
      "execution_count": null,
      "metadata": {
        "id": "9bTY1vdal_oD"
      },
      "outputs": [],
      "source": [
        "#tensorflow 2.15.0 requires tensorboard<2.16,>=2.15, but you have tensorboard 2.16.2 which is incompatible.\n",
        "\n",
        "!pip install tensorboard==2.15.0"
      ]
    },
    {
      "cell_type": "code",
      "execution_count": null,
      "metadata": {
        "id": "qEfvVb4Lmyff"
      },
      "outputs": [],
      "source": [
        "#weasel 0.3.4 requires typer<0.10.0,>=0.3.0, but you have typer 0.12.3 which is incompatible.\n",
        "!pip install weasel==0.3.4"
      ]
    },
    {
      "cell_type": "markdown",
      "metadata": {
        "id": "MFfcQ9Q0kqQ9"
      },
      "source": [
        "* Upload model checkpoints directly the [Hugging Face Hub](https://huggingface.co/)\n",
        "whilst training.\n",
        "\n",
        "* The Hub provides:\n",
        "    - Integrated version control: you can be sure that no model checkpoint is lost during training.\n",
        "    - Tensorboard logs: track important metrics over the course of training.\n",
        "    - Model cards: document what a model does and its intended use cases.\n",
        "    - Community: an easy way to share and collaborate with the community!\n",
        "\n",
        "- Linking the notebook to the Hub is straightforward  \n",
        "\n",
        "* Entering your\n",
        "Hub authentication token when prompted. Find your Hub authentication token [here](https://huggingface.co/settings/tokens):"
      ]
    },
    {
      "cell_type": "code",
      "execution_count": null,
      "metadata": {
        "id": "TnzU2VLfoo7m"
      },
      "outputs": [],
      "source": [
        "# Huggingface 로그인\n",
        "from huggingface_hub import notebook_login\n",
        "\n",
        "notebook_login()"
      ]
    },
    {
      "cell_type": "markdown",
      "metadata": {
        "id": "sqgkt1RjpT8j"
      },
      "source": [
        "# Load Dataset\n",
        "\n",
        "* Using 🤗 Datasets, download and prepare data\n",
        "\n",
        "    1. Ensure you have accepted the terms of use on the Hugging Face Hub: [mozilla-foundation/common_voice_12_0](https://huggingface.co/datasets/mozilla-foundation/common_voice_12_0).\n",
        "\n",
        "    2. 5 hours of korean dataset is considered low-resource, so we decided to use dataset from [AI hub](https://www.aihub.or.kr/aihubdata/data/view.do?currMenu=115&topMenu=100&dataSetSn=123) which has more than 1000 hours with 2000 speakers.\n",
        "\n"
      ]
    },
    {
      "cell_type": "code",
      "execution_count": null,
      "metadata": {
        "id": "Q2XipuGauH4-"
      },
      "outputs": [],
      "source": [
        "# 학습이랑 테스트 데이터 불러오기\n",
        "from datasets import load_dataset, DatasetDict\n",
        "\n",
        "common_voice = DatasetDict()\n",
        "\n",
        "common_voice[\"train\"] = load_dataset(\"mozilla-foundation/common_voice_12_0\", \"ko\", split=\"train+validation\", use_auth_token=True)\n",
        "common_voice[\"test\"] = load_dataset(\"mozilla-foundation/common_voice_12_0\", \"ko\", split=\"test\", use_auth_token=True)\n",
        "\n",
        "print(common_voice)\n",
        "\n"
      ]
    },
    {
      "cell_type": "markdown",
      "metadata": {
        "id": "i79buibJyEEv"
      },
      "source": [
        "* Most ASR datasets only provide input audio samples (`audio`) and the\n",
        "corresponding transcribed text (`sentence`).\n",
        "\n",
        "    * Common Voice contains additional\n",
        "      metadata information, such as `accent` and `locale`, which we can disregard for ASR.\n",
        "\n",
        "* For only consider the input audio and\n",
        "transcribed text for fine-tuning, discarding the additional metadata information:"
      ]
    },
    {
      "cell_type": "code",
      "execution_count": null,
      "metadata": {
        "id": "jmUjkw7xyMi7"
      },
      "outputs": [],
      "source": [
        "# Common_voice안에 필요없는 column 제거하기\n",
        "common_voice = common_voice.remove_columns([\"accent\", \"age\", \"client_id\", \"down_votes\", \"gender\", \"locale\", \"path\", \"segment\", \"up_votes\"])\n",
        "\n",
        "print(common_voice)"
      ]
    },
    {
      "cell_type": "markdown",
      "metadata": {
        "id": "Tuvx93vAQQre"
      },
      "source": [
        "# Prepare Feature Extractor, Tokenizer and Data\n",
        "\n",
        "ASR pipeline de-composed into three-stages:\n",
        "\n",
        "1. A feature extractor which pre-processes the raw audio-inputs\n",
        "2. The model which performs the sequence-to-sequence mapping\n",
        "3. A tokenizer which post-processes the model outputs to text format\n",
        "\n",
        "In 🤗 Transformers, the Whisper model has an associated feature extractor and tokenizer,\n",
        "called [WhisperFeatureExtractor](https://huggingface.co/docs/transformers/main/model_doc/whisper#transformers.WhisperFeatureExtractor)\n",
        "and [WhisperTokenizer](https://huggingface.co/docs/transformers/main/model_doc/whisper#transformers.WhisperTokenizer)\n",
        "respectively.\n",
        "\n"
      ]
    },
    {
      "cell_type": "markdown",
      "metadata": {
        "id": "1EPRQi7x0RuM"
      },
      "source": [
        "### Load WhisperFeatureExtractor\n",
        "\n",
        "The whisper feature extractor with two operations:\n",
        "\n",
        "1. Pads/truncate the audio inputs to 30s: any audio inputs shorter than 30s padded to 30s with silence(zeros), and those longer than 30s truncated to 30s\n",
        "\n",
        "2. Converts the audio inputs to _log-Mel spectrogram_ input features, a visual representation of the audio and the form of the input expected by the Whisper model"
      ]
    },
    {
      "cell_type": "markdown",
      "metadata": {
        "id": "0ImdWgwM08tK"
      },
      "source": [
        "<figure>\n",
        "<img src=\"https://raw.githubusercontent.com/sanchit-gandhi/notebooks/main/spectrogram.jpg\" alt=\"Trulli\" style=\"width:100%\">\n",
        "<figcaption align = \"center\"><b>Figure 2:</b> Conversion of sampled audio array to log-Mel spectrogram.\n",
        "Left: sampled 1-dimensional audio signal. Right: corresponding log-Mel spectrogram. Figure source:\n",
        "<a href=\"https://ai.googleblog.com/2019/04/specaugment-new-data-augmentation.html\">Google SpecAugment Blog</a>.\n",
        "</figcaption>"
      ]
    },
    {
      "cell_type": "markdown",
      "metadata": {
        "id": "sVzMNZtA0_6a"
      },
      "source": [
        "Load the feature extractor from the pre-trained checkpoint with the default values:"
      ]
    },
    {
      "cell_type": "code",
      "execution_count": null,
      "metadata": {
        "id": "tbO4N1Eb1IaC"
      },
      "outputs": [],
      "source": [
        "# WhisperFeatureExtractor를 통해서 pre-traine checkpoint 가져오기\n",
        "from transformers import WhisperFeatureExtractor\n",
        "\n",
        "feature_extractor = WhisperFeatureExtractor.from_pretrained(\"openai/whisper-small\")"
      ]
    },
    {
      "cell_type": "markdown",
      "metadata": {
        "id": "5E5k4hNp1O2B"
      },
      "source": [
        "### Load WhisperTokenizer\n",
        "\n",
        "* Outputs a seqeuence of _token ids_\n",
        "* Tokenizer maps each of these token ids to their corresponding text string\n",
        "* For Korean, load the pre-trained tokenizer and use it for fine-tuning without any further modifications\n",
        "    \n",
        "    * Specify the target language and the task\n",
        "\n",
        "    *  The tokenizer to prefix the language and task tokens to the start of encoded label sequences:"
      ]
    },
    {
      "cell_type": "code",
      "execution_count": null,
      "metadata": {
        "id": "y7SR_JQi3cng"
      },
      "outputs": [],
      "source": [
        "# WhisperTokeinzer를 통해서 원하는 task 언어를 토큰화 진행하기\n",
        "from transformers import WhisperTokenizer\n",
        "\n",
        "tokenizer = WhisperTokenizer.from_pretrained(\"openai/whisper-small\", language=\"Korean\", task=\"transcribe\")"
      ]
    },
    {
      "cell_type": "markdown",
      "metadata": {
        "id": "x2NEUya93kQH"
      },
      "source": [
        "### Combine To Create A WhisperProcessor\n",
        "\n",
        "* To simplify using the feature extractor and tokenizer\n",
        " * Wrap both into a single WhisperProcessor class\n",
        "    \n",
        " * Inherits from the WhisperFeatureExtractor and WhisperProcessor\n",
        "\n",
        " * Can be used on the audio inputs and model predictions as required\n",
        "\n",
        "* Keep track of two objects during training: the processor and the model:\n"
      ]
    },
    {
      "cell_type": "code",
      "execution_count": null,
      "metadata": {
        "id": "Po_OdiW34cdn"
      },
      "outputs": [],
      "source": [
        "# WhisperProceesor는 작업하는 언어와 작업을 설정하기\n",
        "from transformers import WhisperProcessor\n",
        "\n",
        "processor = WhisperProcessor.from_pretrained(\"openai/whisper-small\", language=\"Korean\", task=\"transcribe\")"
      ]
    },
    {
      "cell_type": "markdown",
      "metadata": {
        "id": "08Rlm_8tf1Qk"
      },
      "source": [
        "### Prepare Data"
      ]
    },
    {
      "cell_type": "markdown",
      "metadata": {
        "id": "CJRcW073gJi_"
      },
      "source": [
        "Print the first example of the Common Voice dataset"
      ]
    },
    {
      "cell_type": "code",
      "execution_count": null,
      "metadata": {
        "id": "qKuFeex2f4Di"
      },
      "outputs": [],
      "source": [
        "print(common_voice[\"train\"][0])"
      ]
    },
    {
      "cell_type": "markdown",
      "metadata": {
        "id": "ofz8kAQVgZLR"
      },
      "source": [
        "* Input audio sampled at 48 kHz -> downsample to 16kHz before pass to the Whisper feature extractor\n",
        "    \n",
        "    * 16 kHz the sampling rate expected by the Whisper model\n",
        "\n",
        "* Using dataset's [`cast_column`](https://huggingface.co/docs/datasets/package_reference/main_classes.html?highlight=cast_column#datasets.DatasetDict.cast_column) method => Able to set the audio inputs to the correct sampling rate\n",
        "\n",
        "    * Resample audio sample _on the fly_ the first time that they are loaded"
      ]
    },
    {
      "cell_type": "code",
      "execution_count": null,
      "metadata": {
        "id": "-pZZsVdoiW4f"
      },
      "outputs": [],
      "source": [
        "# Cast column 방법을 통해 원하는 sampling rate로 설정 가능\n",
        "from datasets import Audio\n",
        "\n",
        "common_voice = common_voice.cast_column(\"audio\", Audio(sampling_rate=16000))"
      ]
    },
    {
      "cell_type": "markdown",
      "metadata": {
        "id": "hG1Snd52jRWa"
      },
      "source": [
        "Now write a function to prepare our data ready for the model:\n",
        "\n",
        " 1. Load and resample the audio data by calling `batch[\"audio\"]`.\n",
        " 2. Use the feature extractor to compute the log-Mel spectrogram input features from our 1-dimensional audio array\n",
        " 3. Encode the transcriptions to label ids through the use of the tokenizer."
      ]
    },
    {
      "cell_type": "code",
      "execution_count": null,
      "metadata": {
        "id": "y6UefZCqjybf"
      },
      "outputs": [],
      "source": [
        "def prepare_dataset(batch):\n",
        "    # load and resample audio data from 48 to 16kHz\n",
        "    audio = batch[\"audio\"]\n",
        "\n",
        "    # compute log-Mel input features from input audio array\n",
        "    batch[\"input_features\"] = feature_extractor(audio[\"array\"], sampling_rate=audio[\"sampling_rate\"]).input_features[0]\n",
        "\n",
        "    # encode target text to label ids\n",
        "    batch[\"labels\"] = tokenizer(batch[\"sentence\"]).input_ids\n",
        "    return batch"
      ]
    },
    {
      "cell_type": "markdown",
      "metadata": {
        "id": "EZQYiRbbj5FX"
      },
      "source": [
        "* Apply the data prepartation function  to all our training examples using dataset's `.map` method\n",
        "\n",
        "    * `num_proc`: How many CPU cores to use (`num_proc` > 1 will enable multiprocessing)\n",
        "\n",
        "\n",
        "\n"
      ]
    },
    {
      "cell_type": "code",
      "execution_count": null,
      "metadata": {
        "id": "pFOQVAdFkj2N"
      },
      "outputs": [],
      "source": [
        "common_voice = common_voice.map(prepare_dataset, remove_columns=common_voice.column_names[\"train\"], num_proc=2)"
      ]
    },
    {
      "cell_type": "markdown",
      "metadata": {
        "id": "siPvEIdWmBg1"
      },
      "source": [
        "### Training and Evaluation\n",
        "\n",
        "####Training pipeline\n",
        "\n",
        "The [🤗 Trainer](https://huggingface.co/transformers/master/main_classes/trainer.html?highlight=trainer) do much of the heavy lifting for us\n",
        "\n",
        " - Load a pre-trained checkpoint: Need to load a pre-trained checkpoint and configure it correctly for training.\n",
        "\n",
        " - Define a data collator: the data collator takes our pre-processed data and prepares PyTorch tensors ready for the model\n",
        "\n",
        " - Evaluation metrics: during evaluation, we want to evaluate the model using the [word error rate (WER)](https://huggingface.co/metrics/wer) metric. We need to define a `compute_metrics` function that handles this computation\n",
        "\n",
        " - Define the training configuration: this will be used by the 🤗 Trainer to define the training schedule\n",
        "\n",
        " After fine-tuned the model, evaluate it on the test data to verify it on the test data to verfify if we trained correlty to transcribe speech in Korean.\n",
        "\n",
        "\n"
      ]
    },
    {
      "cell_type": "markdown",
      "metadata": {
        "id": "8uNd242wnlfj"
      },
      "source": [
        "### Load a Pre-Trained Checkpoint\n",
        "\n",
        "* Use the pre-trained Whisper `small` checkpoint (the weights for which we need to load from the Hugging Face Hub)\n"
      ]
    },
    {
      "cell_type": "code",
      "execution_count": null,
      "metadata": {
        "id": "6SqCngn7pVOP"
      },
      "outputs": [],
      "source": [
        "# 이 모델은 조건부 생성(conditional generation)을 위해 설계되었으며, 주어진 입력에 대해 텍스트를 생성하는 작업을 수행\n",
        "from transformers import WhisperForConditionalGeneration\n",
        "\n",
        "model = WhisperForConditionalGeneration.from_pretrained(\"openai/whisper-small\")"
      ]
    },
    {
      "cell_type": "markdown",
      "metadata": {
        "id": "3wtsT3aQpiCi"
      },
      "source": [
        "### Diable the automatic language detection task\n",
        "\n",
        "*  set the [langauge](https://huggingface.co/docs/transformers/en/model_doc/whisper#transformers.WhisperForConditionalGeneration.generate.language)\n",
        "and [task](https://huggingface.co/docs/transformers/en/model_doc/whisper#transformers.WhisperForConditionalGeneration.generate.task)\n",
        "arguments to the generation config\n",
        "\n",
        "* set any [`forced_decoder_ids`](https://huggingface.co/docs/transformers/main_classes/text_generation#transformers.generation_utils.GenerationMixin.generate.forced_decoder_ids)\n",
        "to None (Default setting)"
      ]
    },
    {
      "cell_type": "code",
      "execution_count": null,
      "metadata": {
        "id": "vdNzT7okqcGG"
      },
      "outputs": [],
      "source": [
        "model.generation_config.language = \"hindi\"\n",
        "model.generation_config.task = \"transcribe\"\n",
        "\n",
        "model.generation_config.forced_decoder_ids = None"
      ]
    },
    {
      "cell_type": "markdown",
      "metadata": {
        "id": "fUg_yKMHqcrn"
      },
      "source": [
        "#### Define a Data Collator\n",
        "\n",
        "* Sequence-to-sequence speach model: the `input_features` and `labels` independently\n",
        "\n",
        " * the  `input_features` by the feature extractor\n",
        " * the `labels` by the tokenizer\n",
        "\n",
        "* The `input_features` padded to 30s and converted to a log-Mel spectrogram of fixed dimension by action of the feature extractor\n",
        "\n",
        "* Convert the `input_features`\n",
        "to batched PyTorch tensors\n",
        " * Use the feature extractor's `.pad` method with `return_tensors=pt`\n",
        "\n",
        "* The `labels` un-padded\n",
        " 1. Pad the sequences to the maximum length in the batch using the tokenizer's `.pad` method\n",
        " 2. Padding tokens replaced by  `-100` :**not** taken into account when computing the loss\n",
        " 3. Cut the BOS (Beginning of sentence) token from the start of the label sequence (append it later during training)\n",
        "\n"
      ]
    },
    {
      "cell_type": "code",
      "execution_count": null,
      "metadata": {
        "id": "RC1MTQMI3q8Q"
      },
      "outputs": [],
      "source": [
        "import torch\n",
        "\n",
        "from dataclasses import dataclass\n",
        "from typing import Any, Dict, List, Union\n",
        "\n",
        "@dataclass\n",
        "class DataCollatorSpeechSeq2SeqWithPadding:\n",
        "    processor: Any\n",
        "    decoder_start_token_id: int\n",
        "\n",
        "    def __call__(self, features: List[Dict[str, Union[List[int], torch.Tensor]]]) -> Dict[str, torch.Tensor]:\n",
        "        # split inputs and labels since they have to be of different lengths and need different padding methods\n",
        "        # first treat the audio inputs by simply returning torch tensors\n",
        "        input_features = [{\"input_features\": feature[\"input_features\"]} for feature in features]\n",
        "        batch = self.processor.feature_extractor.pad(input_features, return_tensors=\"pt\")\n",
        "\n",
        "        # get the tokenized label sequences\n",
        "        label_features = [{\"input_ids\": feature[\"labels\"]} for feature in features]\n",
        "        # pad the labels to max length\n",
        "        labels_batch = self.processor.tokenizer.pad(label_features, return_tensors=\"pt\")\n",
        "\n",
        "        # replace padding with -100 to ignore loss correctly\n",
        "        labels = labels_batch[\"input_ids\"].masked_fill(labels_batch.attention_mask.ne(1), -100)\n",
        "\n",
        "        # if bos token is appended in previous tokenization step,\n",
        "        # cut bos token here as it's append later anyways\n",
        "        if (labels[:, 0] == self.decoder_start_token_id).all().cpu().item():\n",
        "            labels = labels[:, 1:]\n",
        "\n",
        "        batch[\"labels\"] = labels\n",
        "\n",
        "        return batch"
      ]
    },
    {
      "cell_type": "markdown",
      "metadata": {
        "id": "h7wX1hUT4BdP"
      },
      "source": [
        "Initialise the data collator we've just defined:"
      ]
    },
    {
      "cell_type": "code",
      "execution_count": null,
      "metadata": {
        "id": "R1uksJTf4BIB"
      },
      "outputs": [],
      "source": [
        "data_collator = DataCollatorSpeechSeq2SeqWithPadding(\n",
        "    processor=processor,\n",
        "    decoder_start_token_id=model.config.decoder_start_token_id,\n",
        ")"
      ]
    },
    {
      "cell_type": "markdown",
      "metadata": {
        "id": "BKmzjyF_4IY4"
      },
      "source": [
        "### Evaluation Metrics\n",
        "\n",
        "* Use the word error rate (WER) metric, the 'de-facto' metric for assessing ASR systems. For more information, refer to the WER [docs](https://huggingface.co/metrics/wer)."
      ]
    },
    {
      "cell_type": "code",
      "execution_count": null,
      "metadata": {
        "id": "PfxOMSmc4R9o"
      },
      "outputs": [],
      "source": [
        "import evaluate\n",
        "\n",
        "metric = evaluate.load(\"wer\")"
      ]
    },
    {
      "cell_type": "markdown",
      "metadata": {
        "id": "Lae0vOBf4V6m"
      },
      "source": [
        "* Define a function that takes our model predictions and returns the WER metric\n",
        "    * Called\n",
        "     `compute_metrics`, first replaces `-100` with the `pad_token_id` in the `label_ids` (undoing the step we applied in the data collator to ignore padded tokens correctly in the loss).\n",
        "\n",
        "1. Decodes the predicted and label ids to strings\n",
        "2. Computes the WER between the predictions and reference labels:"
      ]
    },
    {
      "cell_type": "code",
      "execution_count": null,
      "metadata": {
        "id": "EUUMPUUI43sJ"
      },
      "outputs": [],
      "source": [
        "def compute_metrics(pred):\n",
        "    pred_ids = pred.predictions\n",
        "    label_ids = pred.label_ids\n",
        "\n",
        "    # replace -100 with the pad_token_id\n",
        "    label_ids[label_ids == -100] = tokenizer.pad_token_id\n",
        "\n",
        "    # we do not want to group tokens when computing the metrics\n",
        "    pred_str = tokenizer.batch_decode(pred_ids, skip_special_tokens=True)\n",
        "    label_str = tokenizer.batch_decode(label_ids, skip_special_tokens=True)\n",
        "\n",
        "    wer = 100 * metric.compute(predictions=pred_str, references=label_str)\n",
        "\n",
        "    return {\"wer\": wer}"
      ]
    },
    {
      "cell_type": "markdown",
      "metadata": {
        "id": "e5GppSsp4_fH"
      },
      "source": [
        "### Define the Training Configuration\n",
        "\n",
        "* Define all the parameters related to training. For more detail on the training arguments, refer to the Seq2SeqTrainingArguments [docs](https://huggingface.co/docs/transformers/main_classes/trainer#transformers.Seq2SeqTrainingArguments)."
      ]
    },
    {
      "cell_type": "code",
      "execution_count": null,
      "metadata": {
        "id": "rEEYN37x5oJ2"
      },
      "outputs": [],
      "source": [
        "from transformers import Seq2SeqTrainingArguments\n",
        "\n",
        "training_args = Seq2SeqTrainingArguments(\n",
        "    output_dir=\"./whisper-small-ko\",  # change to a repo name of your choice\n",
        "    per_device_train_batch_size=16,\n",
        "    gradient_accumulation_steps=1,  # increase by 2x for every 2x decrease in batch size\n",
        "    learning_rate=1e-5,\n",
        "    warmup_steps=500,\n",
        "    max_steps=4000,\n",
        "    gradient_checkpointing=False,\n",
        "    evaluation_strategy=\"steps\",\n",
        "    per_device_eval_batch_size=8,\n",
        "    predict_with_generate=True,\n",
        "    generation_max_length=225,\n",
        "    save_steps=1000,\n",
        "    eval_steps=1000,\n",
        "    logging_steps=25,\n",
        "    report_to=[\"tensorboard\"],\n",
        "    load_best_model_at_end=True,\n",
        "    metric_for_best_model=\"wer\",\n",
        "    greater_is_better=False,\n",
        "    push_to_hub=True,\n",
        ")"
      ]
    },
    {
      "cell_type": "markdown",
      "metadata": {
        "id": "gGmb60MA5tbC"
      },
      "source": [
        "**Note**: if one does not want to upload the model checkpoints to the Hub,\n",
        "set `push_to_hub=False`"
      ]
    },
    {
      "cell_type": "markdown",
      "metadata": {
        "id": "wDykbRsJ5x3W"
      },
      "source": [
        "Forward the training arguments to the 🤗 Trainer along with our model,\n",
        "dataset, data collator and `compute_metrics` function:"
      ]
    },
    {
      "cell_type": "code",
      "execution_count": null,
      "metadata": {
        "id": "OVpH7ddW52oH"
      },
      "outputs": [],
      "source": [
        "from transformers import Seq2SeqTrainer\n",
        "\n",
        "trainer = Seq2SeqTrainer(\n",
        "    args=training_args,\n",
        "    model=model,\n",
        "    train_dataset=common_voice[\"train\"],\n",
        "    eval_dataset=common_voice[\"test\"],\n",
        "    data_collator=data_collator,\n",
        "    compute_metrics=compute_metrics,\n",
        "    tokenizer=processor.feature_extractor,\n",
        ")"
      ]
    },
    {
      "cell_type": "markdown",
      "metadata": {
        "id": "V_PLBhDH55G-"
      },
      "source": [
        "Save the processor object once before starting training. Since the processor is not trainable, it won't change over the course of training:"
      ]
    },
    {
      "cell_type": "code",
      "execution_count": null,
      "metadata": {
        "id": "8wxRJzdQ6VO2"
      },
      "outputs": [],
      "source": [
        "processor.save_pretrained(training_args.output_dir)"
      ]
    },
    {
      "cell_type": "markdown",
      "metadata": {
        "id": "6sqAHFaY9NbD"
      },
      "source": [
        "### Training\n",
        "\n",
        "* Training will take approximately 5-10 hours depending on your GPU or the one\n",
        "allocated to this Google Colab\n"
      ]
    },
    {
      "cell_type": "markdown",
      "metadata": {
        "id": "q3fu1O0H9qU5"
      },
      "source": [
        "For prevent the training without interrupted due to inactivity in Colab\n",
        "\n",
        "* Insert the code into the console of the this tab (_right mouse click_-> _inspect_ -> _Console tab_ -> _insert code_)"
      ]
    },
    {
      "cell_type": "markdown",
      "metadata": {
        "id": "MyTdoWnU9oXa"
      },
      "source": [
        "```javascript\n",
        "function ConnectButton(){\n",
        "    console.log(\"Connect pushed\");\n",
        "    document.querySelector(\"#top-toolbar > colab-connect-button\").shadowRoot.querySelector(\"#connect\").click()\n",
        "}\n",
        "setInterval(ConnectButton, 60000);\n",
        "```"
      ]
    },
    {
      "cell_type": "markdown",
      "metadata": {
        "id": "ZYH42Z65-cJQ"
      },
      "source": [
        "The peak GPU memory for given configuration: approximately 15.8 GB.\n",
        " * Depending on the GPU allocated to the Google Colab, Encounter a CUDA `\"out-of-memory\"` error when launching training => reduce the `per_device_train_batch_size` incrementally by factors of 2\n",
        "and employ [`gradient_accumulation_steps`](https://huggingface.co/docs/transformers/main_classes/trainer#transformers.Seq2SeqTrainingArguments.gradient_accumulation_steps)\n",
        "to compensate.\n",
        "\n",
        "* Gradient Accumulation 방법은 미니 배치를 통해 구해진 gradient를 n-step동안 Global Gradients에 누적시킨 후, 한번에 업데이트하는 방법입니다. 예를 들어서 현재 batch size가 16이고 n-step 값이 16이면 batch size 16으로 16번의 gradient 축적을 통해서 한번의 forward/back propagation을 실행한다. 이렇게 되면 실제로 배치사이즈 256을 사용한 효과를 얻을 수 있으나, 훈련시간이 매우 길어질 수 있다는 단점\n",
        "\n",
        "![image.png](data:image/png;base64,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)"
      ]
    },
    {
      "cell_type": "markdown",
      "metadata": {
        "id": "ffpK5mzc_igo"
      },
      "source": [
        "Launch training with simple code below"
      ]
    },
    {
      "cell_type": "code",
      "execution_count": null,
      "metadata": {
        "id": "g7wYqt-B_pKH"
      },
      "outputs": [],
      "source": [
        "trainer.train()"
      ]
    },
    {
      "cell_type": "markdown",
      "metadata": {
        "id": "Ba8WmYOG_u8-"
      },
      "source": [
        "\n",
        "* Able to make our model more accessible on the Hub with appropriate tags and README information.\n",
        "\n",
        "* Able can change these values to match your dataset, language and model name accordingly:"
      ]
    },
    {
      "cell_type": "code",
      "execution_count": null,
      "metadata": {
        "id": "EZInOLUNAALa"
      },
      "outputs": [],
      "source": [
        "kwargs = {\n",
        "    \"dataset_tags\": \"mozilla-foundation/common_voice_11_0\",\n",
        "    \"dataset\": \"Common Voice 11.0\",  # a 'pretty' name for the training dataset\n",
        "    \"dataset_args\": \"config: hi, split: test\",\n",
        "    \"language\": \"hi\",\n",
        "    \"model_name\": \"Whisper Small Hi - Sanchit Gandhi\",  # a 'pretty' name for our model\n",
        "    \"finetuned_from\": \"openai/whisper-small\",\n",
        "    \"tasks\": \"automatic-speech-recognition\",\n",
        "}"
      ]
    },
    {
      "cell_type": "markdown",
      "metadata": {
        "id": "QHT-tSnuAENM"
      },
      "source": [
        "Training results now be uploaded to the Hub\n",
        "* Excecute the `push_to_hub` command and save the preprocessor object we created:"
      ]
    },
    {
      "cell_type": "code",
      "execution_count": null,
      "metadata": {
        "id": "tmtVRioKADhI"
      },
      "outputs": [],
      "source": [
        "trainer.push_to_hub(**kwargs)"
      ]
    }
  ],
  "metadata": {
    "accelerator": "GPU",
    "colab": {
      "gpuType": "T4",
      "provenance": [],
      "authorship_tag": "ABX9TyNDzi0WcxE9XN0ZTgf5nMlt",
      "include_colab_link": true
    },
    "kernelspec": {
      "display_name": "Python 3",
      "name": "python3"
    },
    "language_info": {
      "name": "python"
    }
  },
  "nbformat": 4,
  "nbformat_minor": 0
}