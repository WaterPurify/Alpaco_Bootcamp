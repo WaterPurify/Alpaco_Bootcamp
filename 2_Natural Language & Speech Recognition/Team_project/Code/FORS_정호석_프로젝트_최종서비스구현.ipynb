{
  "cells": [
    {
      "cell_type": "markdown",
      "metadata": {
        "id": "view-in-github",
        "colab_type": "text"
      },
      "source": [
        "<a href=\"https://colab.research.google.com/github/YoungsikMoon/FORS/blob/main/%EC%A0%95%ED%98%B8%EC%84%9D/FORS_%EC%A0%95%ED%98%B8%EC%84%9D_%ED%94%84%EB%A1%9C%EC%A0%9D%ED%8A%B8_%EC%B5%9C%EC%A2%85%EC%84%9C%EB%B9%84%EC%8A%A4%EA%B5%AC%ED%98%84.ipynb\" target=\"_parent\"><img src=\"https://colab.research.google.com/assets/colab-badge.svg\" alt=\"Open In Colab\"/></a>"
      ]
    },
    {
      "cell_type": "markdown",
      "source": [
        "# 최종 서비스 구현\n",
        "\n"
      ],
      "metadata": {
        "id": "e_5WmM1169_u"
      }
    },
    {
      "cell_type": "markdown",
      "source": [
        "#### Fast-Wshisper 모델 로딩"
      ],
      "metadata": {
        "id": "4fDhY72C7E7U"
      }
    },
    {
      "cell_type": "code",
      "execution_count": null,
      "metadata": {
        "id": "r_fci0Aa6mrW"
      },
      "outputs": [],
      "source": [
        "import speech_recognition as sr\n",
        "from gtts import gTTS\n",
        "import os\n",
        "import time\n",
        "import pygame\n",
        "import os\n",
        "from datetime import datetime\n",
        "from glob import glob\n",
        "from faster_whisper import WhisperModel\n",
        "from langchain_openai import ChatOpenAI\n",
        "from langchain_core.messages import HumanMessage, SystemMessage\n",
        "import pandas as pd"
      ]
    },
    {
      "cell_type": "code",
      "execution_count": null,
      "metadata": {
        "id": "47qWL90U6mrY"
      },
      "outputs": [],
      "source": [
        "# 인텔 드라이버 충돌 에러\n",
        "# 원래 있는데 다시 깔려고 하니까 중복 에러 뜸\n",
        "# 중복돼도 OK에 True값 적용\n",
        "os.environ['KMP_DUPLICATE_LIB_OK']='True'\n",
        "\n",
        "# Fast Whisper 모델 불러오기\n",
        "model = WhisperModel(\"large-v3\")"
      ]
    },
    {
      "cell_type": "markdown",
      "source": [
        "#### 질문지 작성"
      ],
      "metadata": {
        "id": "RTHodXxt7Kst"
      }
    },
    {
      "cell_type": "code",
      "execution_count": null,
      "metadata": {
        "id": "bY-m_kE76mrY"
      },
      "outputs": [],
      "source": [
        "start_ment = \"\"\"안녕하세요. 호석님. 서울시 중구 취업 센터 aI 상담사입니다.\n",
        "시니어 취업 관련해서 간단한 사전 설문조사를 진행하고 있사오니, 잠깐 시간을 내어주시면 감사하겠습니다.\"\"\"\n",
        "\n",
        "question1 = \"먼저 성함을 알려주시겠어요?\"\n",
        "\n",
        "question2 = \"성별과 나이는 어떻게 되시나요?\"\n",
        "\n",
        "question3 = \"\"\"건강상태를 간단히 여쭤보겠습니다.\n",
        "걷는데는 지장이 없으신가요? 있으시다면 얼마만큼 불편하신가요?\"\"\"\n",
        "\n",
        "question4 = \"보고 듣는데는 지장이 없으신가요? 있으시다면 얼마만큼 불편하신가요?\"\n",
        "\n",
        "question5 = \"\"\"학교는 어디까지 나오셨나요?\n",
        "초등학교, 중학교, 고등학교, 대학교에 졸업한 곳으로 답변 부탁드립니다.\"\"\"\n",
        "\n",
        "question6 = \"살면서 주로 무슨 일들을 하셨나요?\"\n",
        "\n",
        "question7 = \"혹시 특별히 하고 싶은 일이 있으신가요?\"\n",
        "\n",
        "question8 = \"배우자나 자녀분들은 어디에 살고 있나요?\"\n",
        "\n",
        "end_ment = \"\"\"답변 감사드립니다. 서울시 중구 고용센터였습니다.\n",
        "궁금하신 사항이 있으면 발송드린 문자에 있는 번호로 연락 부탁드립니다.\n",
        "담당자 검토 후 수일 내로 다시 연락드리겠습니다. 감사합니다. \"\"\"\n",
        "\n",
        "# 질문 갯수\n",
        "questions = [start_ment, question1, question2, question3, question4, question5, question6, question7, question8, end_ment]\n",
        "\n",
        "# 답변 담을 리스트\n",
        "answer = []"
      ]
    },
    {
      "cell_type": "markdown",
      "source": [
        "#### 필요 메소드 작성"
      ],
      "metadata": {
        "id": "b2Zh-KSQ7VjR"
      }
    },
    {
      "cell_type": "code",
      "execution_count": null,
      "metadata": {
        "id": "t3c_yeRV6mrY"
      },
      "outputs": [],
      "source": [
        "\n",
        "# 텍스트를 말로 바꿔줌\n",
        "# param : 읽어줄 텍스트\n",
        "def speak(text):\n",
        "    tts = gTTS(text=text, lang='ko')\n",
        "    filename='voice.mp3'\n",
        "    tts.save(filename)\n",
        "    pygame.init()\n",
        "    pygame.mixer.music.load(filename)\n",
        "    pygame.mixer.music.play()\n",
        "    while pygame.mixer.music.get_busy():\n",
        "        continue\n",
        "    pygame.mixer.music.unload()\n",
        "    os.remove(filename)\n",
        "\n",
        "\n",
        "# 마이크 음성 -> 오디오 파일로 저장 (구글이 만들어준 텍스트파일도 같이 저장)\n",
        "# pram : 저장할 폴더 경로(str), 사용자정보(list), 질문번호(int)\n",
        "def get_audio(folder_path, user_info, i):\n",
        "    r = sr.Recognizer()\n",
        "    with sr.Microphone() as source:\n",
        "\n",
        "        print(\"지금 말씀하세요: \")\n",
        "\n",
        "        # 오디오 파일로 저장\n",
        "        audio = r.listen(source)\n",
        "        wav_file_name = folder_path + '\\\\' + user_info[0] + \"_\" + user_info[1] + \"_\" + str(i)\n",
        "\n",
        "        # 중복된거 있으면 그냥 지우고 다시 생성\n",
        "        if os.path.isfile(wav_file_name + \".wav\"):\n",
        "            os.remove(wav_file_name + \".wav\")\n",
        "\n",
        "        try:\n",
        "            with open(wav_file_name + \".wav\", 'bx') as f:\n",
        "                f.write(audio.get_wav_data())\n",
        "        except Exception as e:\n",
        "            print(\"Exception: \" + str(e))\n",
        "\n",
        "        # 구글에서 전사해준거 텍스트로 저장 (위스퍼랑 비교해보자)\n",
        "        text = \"\"\n",
        "        try:\n",
        "            txt_file_name = folder_path + '\\\\' + user_info[0] + \"_\" + user_info[1] + \"_google.txt\"\n",
        "            text = r.recognize_google(audio, language=\"ko-KR\")\n",
        "            print(\"말씀하신 내용입니다 : \", text)\n",
        "\n",
        "            # 답변 전사된 텍스트 파일로 만들어 저장하기\n",
        "            with open(txt_file_name, 'a') as f:\n",
        "                f.write(str(text)+\"\\n\")\n",
        "        except Exception as e:\n",
        "            print(\"Exception: \" + str(e))\n",
        "\n",
        "    return text\n",
        "\n",
        "\n",
        "# #### 폴더 만들기 ####\n",
        "# param : 만들 폴더 주소(str)\n",
        "def make_folder(path: str):\n",
        "\n",
        "    try:\n",
        "        os.mkdir(path)\n",
        "\n",
        "    # 혹시 이름 중복이면 일단 다른 폴더로 만들기\n",
        "    # 해당 내용 로그 파일에 기록\n",
        "    except:\n",
        "        os.mkdir(path + \"_Error\")\n",
        "        print(f\"중복 폴더 존재{path}\")\n",
        "\n",
        "\n",
        "#### 녹음별 유저 폴더 만들기 ####\n",
        "# param : 유저 정보 리스트(list)\n",
        "# return : 만들어진 폴더 경로(str)\n",
        "def make_user_voice_folder(user_info: list):\n",
        "\n",
        "    try :\n",
        "        date = datetime.today().strftime(\"%Y%m%d\")\n",
        "        num = user_info[1]\n",
        "        name = user_info[0]\n",
        "\n",
        "        # 상위 폴더는 일단 날짜명. 없으면 만들어줌\n",
        "        if os.path.exists(f\"03.음성녹음\\\\{date}\") == False:\n",
        "            os.mkdir(\"03.음성녹음\\\\\" + date)\n",
        "\n",
        "        # 폴더가 없다면\n",
        "        folder_path = \"03.음성녹음\\\\\" + date + \"\\\\\" + num + \"_\" + name\n",
        "        if os.path.exists(folder_path) == False:\n",
        "\n",
        "            # 날짜 폴더 밑에 [식별번호_이름] 폴더를 만들어줌\n",
        "            make_folder(folder_path)\n",
        "\n",
        "    # 혹시 중복일 경우 일단 다른 폴더를 만들어주고 로그 남김\n",
        "    except Exception as e:\n",
        "        print(\"Exception: \" + str(e))\n",
        "\n",
        "    return folder_path\n",
        "\n",
        "# 위스퍼로 오디오파일 전사하기\n",
        "# param : 폴더경로(str)\n",
        "# return : 답변 텍스트 리스트(list)\n",
        "def whisper_transcribe(folder_path):\n",
        "\n",
        "    answer_lst = []\n",
        "    for audio_file in sorted(glob(folder_path + \"/*.wav\")):\n",
        "        segments, info = model.transcribe(audio_file)\n",
        "        for segment in segments:\n",
        "            answer_lst.append(segment.text)\n",
        "\n",
        "    return answer_lst\n",
        "\n",
        "\n",
        "# GPT야 요약해줘\n",
        "# param : 답변 내용 리스트(list)\n",
        "# return : 요약내용 리스트(list)\n",
        "def get_gpt_help(answer_lst):\n",
        "    # 재우 API\n",
        "    GPT_API_KEY = \"sk-proj-KgZChuKTiML1O6WHDO7oT3BlbkFJvJYPMkdQyzZ3v4cc9XML\"\n",
        "\n",
        "    # API 키로 LLM 객체 생성 (GPT와 연결해줌)\n",
        "    # temperature : 생성된 텍스트의 다양성 조정\n",
        "    # 0~2 사이\n",
        "    # 높을 수록 출력을 무작위하게, 낮을 수록 출력을 더 집중되고 결정론적으로 만듦\n",
        "    # model_name : 사용할 GPT 모델(버전) 정보\n",
        "    # openai_api_key : API 키값\n",
        "    chat = ChatOpenAI(temperature = 0.2, max_tokens = 2024, openai_api_key = GPT_API_KEY)\n",
        "\n",
        "    system_msg = \"이 글에서 '이c름, 나이, 건강상태, 최종학력, 경력사항, 희망사항, 가족사항' 으로 요약해줘\"\n",
        "    human_msg = \".\".join(answer_lst)\n",
        "\n",
        "\n",
        "    # 시스템 메세지로 원하는 답변의 형태를 지정할 수 있음\n",
        "    messages = [\n",
        "        SystemMessage(content=system_msg),\n",
        "        HumanMessage(content=human_msg),\n",
        "    ]\n",
        "\n",
        "    # 질문하고 답받아서 잘라서 리스트로 만들기\n",
        "    gpt_re_lst = str(chat.invoke(messages).content).split('\\n')\n",
        "\n",
        "    return gpt_re_lst\n",
        "\n",
        ""
      ]
    },
    {
      "cell_type": "markdown",
      "source": [
        "#### 메인 서비스 코드 작성"
      ],
      "metadata": {
        "id": "feBHMXQ87Zpe"
      }
    },
    {
      "cell_type": "code",
      "execution_count": null,
      "metadata": {
        "id": "VpnTIVC16mrZ"
      },
      "outputs": [],
      "source": [
        "# 유저 폴더 만들기 및 경로 추출\n",
        "user_info = [\"001234001213\", \"김옥자\", \"\", \"\"]\n",
        "folder_path = make_user_voice_folder(user_info)\n",
        "\n",
        "\n",
        "\n",
        "for i, question in enumerate(questions):\n",
        "\n",
        "    # 질문하기\n",
        "    speak(question)\n",
        "\n",
        "    # 첫 번째랑 마지막은 안내멘트로 답변 안받음\n",
        "    if 0 < i < len(questions) - 1:\n",
        "\n",
        "        # 답변받고 파일 저장(오디오파일, 텍스트파일)\n",
        "        get_audio(folder_path, user_info, i)\n",
        "\n",
        "# 혹시 테스트하다가 중간에 그냥 끊으면 플레이어 언로드해주기\n",
        "pygame.mixer.music.unload\n",
        "\n",
        "# 위스퍼로 해당 폴더 오디오 내용 전사하기\n",
        "answer_lst = whisper_transcribe(folder_path)\n",
        "\n",
        "# 랭체인 GPT로 요약해서 받기\n",
        "gpt_re_lst = get_gpt_help(answer_lst)\n",
        "\n",
        "\n",
        "# 데이터프레임으로 만들기\n",
        "\n",
        "# 답변 내용만 가져와서 리스트로 만들기\n",
        "# 검증 코드가 필요하겠지만.. 여기까지만...\n",
        "# 실제로 사용한다면 DB에다가 저장\n",
        "content = []\n",
        "for sentence in gpt_re_lst:\n",
        "    content.append(sentence.split(\": \")[1])\n",
        "\n",
        "result_df = pd.DataFrame(columns =[\"이름\",\"나이\",\"건강상태\",\"최종학력\",\"경력사항\",\"희망사항\",\"가족사항\"])\n",
        "result_df.loc[len(result_df)] = content\n"
      ]
    },
    {
      "cell_type": "code",
      "execution_count": null,
      "metadata": {
        "id": "lDwTYf506mrZ"
      },
      "outputs": [],
      "source": [
        "# 결과 저장 데이터프레임\n",
        "result_df"
      ]
    },
    {
      "cell_type": "code",
      "execution_count": null,
      "metadata": {
        "id": "jtG2WmBC6mrZ"
      },
      "outputs": [],
      "source": [
        "# 결과 엑셀로 추출\n",
        "result_df.to_excel(\"조사결과.xlsx\", index = False)"
      ]
    }
  ],
  "metadata": {
    "kernelspec": {
      "display_name": "alphaco_pj_02",
      "language": "python",
      "name": "python3"
    },
    "language_info": {
      "codemirror_mode": {
        "name": "ipython",
        "version": 3
      },
      "file_extension": ".py",
      "mimetype": "text/x-python",
      "name": "python",
      "nbconvert_exporter": "python",
      "pygments_lexer": "ipython3",
      "version": "3.12.3"
    },
    "colab": {
      "provenance": [],
      "include_colab_link": true
    }
  },
  "nbformat": 4,
  "nbformat_minor": 0
}