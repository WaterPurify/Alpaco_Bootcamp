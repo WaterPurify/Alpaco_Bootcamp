{
  "nbformat": 4,
  "nbformat_minor": 0,
  "metadata": {
    "colab": {
      "provenance": [],
      "gpuType": "T4",
      "include_colab_link": true
    },
    "kernelspec": {
      "name": "python3",
      "display_name": "Python 3"
    },
    "language_info": {
      "name": "python"
    },
    "accelerator": "GPU"
  },
  "cells": [
    {
      "cell_type": "markdown",
      "metadata": {
        "id": "view-in-github",
        "colab_type": "text"
      },
      "source": [
        "<a href=\"https://colab.research.google.com/github/WaterPurify/Alpaco_Bootcamp/blob/main/%EB%A6%AC%EB%88%85%EC%8A%A4%EB%AA%85%EB%A0%B9%EC%96%B4.ipynb\" target=\"_parent\"><img src=\"https://colab.research.google.com/assets/colab-badge.svg\" alt=\"Open In Colab\"/></a>"
      ]
    },
    {
      "cell_type": "markdown",
      "source": [
        "## 반드시 왼쪽 작업디렉토리를 모니터링하면서 진행"
      ],
      "metadata": {
        "id": "_AD_fC9ELIlj"
      }
    },
    {
      "cell_type": "code",
      "source": [
        "# !와 % 차이점\n",
        "\n",
        "느낌표(!)는 조회, 생성 같이 한번만 실행할때 쓰는 magic line 언어이다. 단, 경로 이동은 적용되지 않는다.\n",
        "퍼센테이지(%)는 실제 경로 이동을 반영할때 주로 쓰이며, 모든 쉘 언어 사용 가능"
      ],
      "metadata": {
        "id": "drgvJDGnHWZ8"
      },
      "execution_count": null,
      "outputs": []
    },
    {
      "cell_type": "code",
      "source": [
        "%cd .."
      ],
      "metadata": {
        "colab": {
          "base_uri": "https://localhost:8080/"
        },
        "id": "1IFZ1CvpOyJW",
        "outputId": "31455d00-fe76-4ecf-fb3a-5c455f65871a"
      },
      "execution_count": null,
      "outputs": [
        {
          "output_type": "stream",
          "name": "stdout",
          "text": [
            "/content\n"
          ]
        }
      ]
    },
    {
      "cell_type": "code",
      "source": [
        "# 현재 작업 경로 출력\n",
        "\n",
        "!pwd"
      ],
      "metadata": {
        "colab": {
          "base_uri": "https://localhost:8080/"
        },
        "id": "MdVqGUF2HWOu",
        "outputId": "12b8307b-eac2-4583-fa87-3bd69db6ee55"
      },
      "execution_count": null,
      "outputs": [
        {
          "output_type": "stream",
          "name": "stdout",
          "text": [
            "/content\n"
          ]
        }
      ]
    },
    {
      "cell_type": "code",
      "execution_count": null,
      "metadata": {
        "id": "gOw2UpzFHI50"
      },
      "outputs": [],
      "source": [
        "# 디렉토리 만들기\n",
        "!mkdir test"
      ]
    },
    {
      "cell_type": "code",
      "source": [
        "# 현재 작업 경로에 있는 모든 파일 확인\n",
        "!ls"
      ],
      "metadata": {
        "colab": {
          "base_uri": "https://localhost:8080/"
        },
        "id": "rhzmGtHTLk0N",
        "outputId": "b5eb092c-247a-4e20-e49c-6833c0238c19"
      },
      "execution_count": null,
      "outputs": [
        {
          "output_type": "stream",
          "name": "stdout",
          "text": [
            "sample_data  test\n"
          ]
        }
      ]
    },
    {
      "cell_type": "code",
      "source": [
        "# 폴더 이동\n",
        "%cd test"
      ],
      "metadata": {
        "colab": {
          "base_uri": "https://localhost:8080/"
        },
        "id": "sTqEYOt_LpoM",
        "outputId": "b5175c75-4ccc-4d39-da0f-aa48bff7da24"
      },
      "execution_count": null,
      "outputs": [
        {
          "output_type": "stream",
          "name": "stdout",
          "text": [
            "/content/test\n"
          ]
        }
      ]
    },
    {
      "cell_type": "code",
      "source": [
        "# 파일 한번 만들어보기(이론 설명 후 실습)\n",
        "alpaco폴더 만들어보기 (좀있다가)"
      ],
      "metadata": {
        "id": "tRztpGHtLylV"
      },
      "execution_count": null,
      "outputs": []
    },
    {
      "cell_type": "code",
      "source": [
        "!pwd"
      ],
      "metadata": {
        "colab": {
          "base_uri": "https://localhost:8080/"
        },
        "id": "EqY8nb_oPmPl",
        "outputId": "949e7da3-2611-472a-d3de-19552f49771c"
      },
      "execution_count": null,
      "outputs": [
        {
          "output_type": "stream",
          "name": "stdout",
          "text": [
            "/content/test\n"
          ]
        }
      ]
    },
    {
      "cell_type": "code",
      "source": [
        "# 모든 파일의 모든 정보 보기\n",
        "!ls -al"
      ],
      "metadata": {
        "colab": {
          "base_uri": "https://localhost:8080/"
        },
        "id": "d6M2_NeGL456",
        "outputId": "748aaf8a-cf04-4fa3-a8b6-6a6604576436"
      },
      "execution_count": null,
      "outputs": [
        {
          "output_type": "stream",
          "name": "stdout",
          "text": [
            "total 12\n",
            "drwxr-xr-x 3 root root 4096 Nov 27 05:27 .\n",
            "drwxr-xr-x 1 root root 4096 Nov 27 05:25 ..\n",
            "drwxr-xr-x 2 root root 4096 Nov 27 05:27 .ipynb_checkpoints\n",
            "-------rwx 1 root root    0 Nov 27 05:27 osh.txt\n"
          ]
        }
      ]
    },
    {
      "cell_type": "code",
      "source": [
        "!chmod 007 osh.txt"
      ],
      "metadata": {
        "id": "SGQUecNXQuKn"
      },
      "execution_count": null,
      "outputs": []
    },
    {
      "cell_type": "code",
      "source": [
        "# 디렉토리 만들기\n",
        "!mkdir a\n",
        "!mkdir b\n",
        "!mkdir c"
      ],
      "metadata": {
        "id": "NR3mYJWAL8hO"
      },
      "execution_count": null,
      "outputs": []
    },
    {
      "cell_type": "code",
      "source": [
        "# 모든 파일의 모든 정보 보기\n",
        "!ls -al"
      ],
      "metadata": {
        "colab": {
          "base_uri": "https://localhost:8080/"
        },
        "id": "5JZSWVI8OvMB",
        "outputId": "c377e5f9-6a4b-4520-a408-02913faaf34a"
      },
      "execution_count": null,
      "outputs": [
        {
          "output_type": "stream",
          "name": "stdout",
          "text": [
            "total 24\n",
            "drwxr-xr-x 6 root root 4096 Nov 27 05:33 .\n",
            "drwxr-xr-x 1 root root 4096 Nov 27 05:25 ..\n",
            "drwxr-xr-x 2 root root 4096 Nov 27 05:33 a\n",
            "drwxr-xr-x 2 root root 4096 Nov 27 05:33 b\n",
            "drwxr-xr-x 2 root root 4096 Nov 27 05:33 c\n",
            "drwxr-xr-x 2 root root 4096 Nov 27 05:27 .ipynb_checkpoints\n",
            "-------rwx 1 root root    0 Nov 27 05:27 osh.txt\n"
          ]
        }
      ]
    },
    {
      "cell_type": "code",
      "source": [
        "# a 디렉토리의 권한 수정하기\n",
        "!chmod 700 a"
      ],
      "metadata": {
        "id": "JAv2QytLOyQ8"
      },
      "execution_count": null,
      "outputs": []
    },
    {
      "cell_type": "code",
      "source": [
        "# 모든 파일의 모든 정보 보기\n",
        "!ls -al"
      ],
      "metadata": {
        "colab": {
          "base_uri": "https://localhost:8080/"
        },
        "id": "YqYNHpiwPDIQ",
        "outputId": "0f888449-ceb3-45ed-e535-ac2e03f9cf81"
      },
      "execution_count": null,
      "outputs": [
        {
          "output_type": "stream",
          "name": "stdout",
          "text": [
            "total 24\n",
            "drwxr-xr-x 6 root root 4096 Nov 27 05:33 .\n",
            "drwxr-xr-x 1 root root 4096 Nov 27 05:25 ..\n",
            "drwx------ 2 root root 4096 Nov 27 05:33 a\n",
            "drwxr-xr-x 2 root root 4096 Nov 27 05:33 b\n",
            "drwxr-xr-x 2 root root 4096 Nov 27 05:33 c\n",
            "drwxr-xr-x 2 root root 4096 Nov 27 05:27 .ipynb_checkpoints\n",
            "-------rwx 1 root root    0 Nov 27 05:27 osh.txt\n"
          ]
        }
      ]
    },
    {
      "cell_type": "code",
      "source": [
        "# a 파일을 상위 디렉토리로 옮기기\n",
        "!mv ./a ../ 옮기는 작업"
      ],
      "metadata": {
        "id": "hYWdgicgPD_d"
      },
      "execution_count": null,
      "outputs": []
    },
    {
      "cell_type": "code",
      "source": [
        "# c 파일을 상위 디렉토리로 복사하기\n",
        "!cp -r ./c ../ 복사하는 작업"
      ],
      "metadata": {
        "id": "j-Aby2JjPOI6"
      },
      "execution_count": null,
      "outputs": []
    },
    {
      "cell_type": "code",
      "source": [
        "# 모든 파일의 모든 정보 보기\n",
        "!ls -al"
      ],
      "metadata": {
        "colab": {
          "base_uri": "https://localhost:8080/"
        },
        "id": "qRG-PoLYPT7U",
        "outputId": "aa941788-d20b-410e-dd54-443a861a2e72"
      },
      "execution_count": null,
      "outputs": [
        {
          "output_type": "stream",
          "name": "stdout",
          "text": [
            "total 20\n",
            "drwxr-xr-x 5 root root 4096 Nov 27 05:34 .\n",
            "drwxr-xr-x 1 root root 4096 Nov 27 05:35 ..\n",
            "drwxr-xr-x 2 root root 4096 Nov 27 05:33 b\n",
            "drwxr-xr-x 2 root root 4096 Nov 27 05:33 c\n",
            "drwxr-xr-x 2 root root 4096 Nov 27 05:27 .ipynb_checkpoints\n",
            "-------rwx 1 root root    0 Nov 27 05:27 osh.txt\n"
          ]
        }
      ]
    },
    {
      "cell_type": "code",
      "source": [
        "# c 파일을 b 디렉토리로 복사하기\n",
        "!cp -r ./c ./b"
      ],
      "metadata": {
        "id": "sNcidq1BPYF5"
      },
      "execution_count": null,
      "outputs": []
    },
    {
      "cell_type": "code",
      "source": [
        "# b 디렉토리 안에 있는 정보 보기\n",
        "!ls -al ./b"
      ],
      "metadata": {
        "colab": {
          "base_uri": "https://localhost:8080/"
        },
        "id": "A7xKmKHMPcQo",
        "outputId": "ac7cbd97-5f61-443a-949d-6f608357ebd5"
      },
      "execution_count": null,
      "outputs": [
        {
          "output_type": "stream",
          "name": "stdout",
          "text": [
            "total 12\n",
            "drwxr-xr-x 3 root root 4096 Nov 27 05:36 .\n",
            "drwxr-xr-x 5 root root 4096 Nov 27 05:34 ..\n",
            "drwxr-xr-x 2 root root 4096 Nov 27 05:36 c\n"
          ]
        }
      ]
    },
    {
      "cell_type": "code",
      "source": [
        "# 모든 파일의 모든 정보 보기\n",
        "!ls -al"
      ],
      "metadata": {
        "colab": {
          "base_uri": "https://localhost:8080/"
        },
        "id": "ZPQgVrtjPieO",
        "outputId": "bd78a40e-9cf0-4784-b3ca-b73db769edca"
      },
      "execution_count": null,
      "outputs": [
        {
          "output_type": "stream",
          "name": "stdout",
          "text": [
            "total 16\n",
            "drwxr-xr-x 4 root root 4096 Nov 20 06:00 .\n",
            "drwxr-xr-x 1 root root 4096 Nov 20 06:00 ..\n",
            "drwxr-xr-x 3 root root 4096 Nov 20 06:00 b\n",
            "drwxr-xr-x 2 root root 4096 Nov 20 06:00 c\n"
          ]
        }
      ]
    },
    {
      "cell_type": "code",
      "source": [
        "# 파일 삭제하기, 오류가 날 것 이다.\n",
        "!rm b 파일 삭제하는 작업"
      ],
      "metadata": {
        "colab": {
          "base_uri": "https://localhost:8080/"
        },
        "id": "gw7gLUDoUK2O",
        "outputId": "da687e9b-3433-4ee8-dd28-c22473558e10"
      },
      "execution_count": null,
      "outputs": [
        {
          "output_type": "stream",
          "name": "stdout",
          "text": [
            "rm: cannot remove 'b': Is a directory\n"
          ]
        }
      ]
    },
    {
      "cell_type": "code",
      "source": [
        "# 폴더 또는 그 폴더 안에 있는 파일도 삭제할 때 -r 옵션을 사\n",
        "!rm -r b 폴더 삭제하는 작업"
      ],
      "metadata": {
        "id": "-l1nzAnpUNIS"
      },
      "execution_count": null,
      "outputs": []
    },
    {
      "cell_type": "code",
      "source": [
        "# 모든 파일의 모든 정보 보기\n",
        "!ls -al"
      ],
      "metadata": {
        "colab": {
          "base_uri": "https://localhost:8080/"
        },
        "id": "tgkGtbzrUZAb",
        "outputId": "682f7133-d238-407c-a160-19263c3a9334"
      },
      "execution_count": null,
      "outputs": [
        {
          "output_type": "stream",
          "name": "stdout",
          "text": [
            "total 16\n",
            "drwxr-xr-x 4 root root 4096 Nov 27 05:38 .\n",
            "drwxr-xr-x 1 root root 4096 Nov 27 05:35 ..\n",
            "drwxr-xr-x 2 root root 4096 Nov 27 05:33 c\n",
            "drwxr-xr-x 2 root root 4096 Nov 27 05:27 .ipynb_checkpoints\n",
            "-------rwx 1 root root    0 Nov 27 05:27 osh.txt\n"
          ]
        }
      ]
    },
    {
      "cell_type": "code",
      "source": [
        "# 디스크 용량 확인\n",
        "!df -h 디스크 용량 확인 작업"
      ],
      "metadata": {
        "colab": {
          "base_uri": "https://localhost:8080/"
        },
        "id": "fushPNb1Pl5b",
        "outputId": "64d04c84-fe48-41a0-b374-bb43367b22d4"
      },
      "execution_count": null,
      "outputs": [
        {
          "output_type": "stream",
          "name": "stdout",
          "text": [
            "Filesystem      Size  Used Avail Use% Mounted on\n",
            "overlay          79G   27G   52G  35% /\n",
            "tmpfs            64M     0   64M   0% /dev\n",
            "shm             5.7G     0  5.7G   0% /dev/shm\n",
            "/dev/root       2.0G  1.1G  885M  55% /usr/sbin/docker-init\n",
            "tmpfs           6.4G   64K  6.4G   1% /var/colab\n",
            "/dev/sda1        50G   30G   21G  59% /opt/bin/.nvidia\n",
            "tmpfs           6.4G     0  6.4G   0% /proc/acpi\n",
            "tmpfs           6.4G     0  6.4G   0% /proc/scsi\n",
            "tmpfs           6.4G     0  6.4G   0% /sys/firmware\n"
          ]
        }
      ]
    },
    {
      "cell_type": "code",
      "source": [
        "# cpu, ram 정보 확인 (계속 상태 유지되니까 앞에 정지버튼 누르기)\n",
        "!top"
      ],
      "metadata": {
        "id": "u1H-xwDWPxpO",
        "colab": {
          "base_uri": "https://localhost:8080/"
        },
        "outputId": "9df01ae6-4b25-4e55-daee-b2b4bb4a3015"
      },
      "execution_count": null,
      "outputs": [
        {
          "output_type": "stream",
          "name": "stdout",
          "text": [
            "\u001b[?1h\u001b=\u001b[H\u001b[2J\u001b[mtop - 05:41:49 up 21 min,  0 users,  load average: 0.18, 0.21, 0.18\u001b[m\u001b[m\u001b[m\u001b[m\u001b[K\n",
            "Tasks:\u001b[m\u001b[m\u001b[1m  16 \u001b[m\u001b[mtotal,\u001b[m\u001b[m\u001b[1m   1 \u001b[m\u001b[mrunning,\u001b[m\u001b[m\u001b[1m  14 \u001b[m\u001b[msleeping,\u001b[m\u001b[m\u001b[1m   0 \u001b[m\u001b[mstopped,\u001b[m\u001b[m\u001b[1m   1 \u001b[m\u001b[mzombie\u001b[m\u001b[m\u001b[m\u001b[m\u001b[K\n",
            "%Cpu(s):\u001b[m\u001b[m\u001b[1m  3.3 \u001b[m\u001b[mus,\u001b[m\u001b[m\u001b[1m  0.0 \u001b[m\u001b[msy,\u001b[m\u001b[m\u001b[1m  0.0 \u001b[m\u001b[mni,\u001b[m\u001b[m\u001b[1m 96.7 \u001b[m\u001b[mid,\u001b[m\u001b[m\u001b[1m  0.0 \u001b[m\u001b[mwa,\u001b[m\u001b[m\u001b[1m  0.0 \u001b[m\u001b[mhi,\u001b[m\u001b[m\u001b[1m  0.0 \u001b[m\u001b[msi,\u001b[m\u001b[m\u001b[1m  0.0 \u001b[m\u001b[mst\u001b[m\u001b[m\u001b[m\u001b[m\u001b[K\n",
            "MiB Mem :\u001b[m\u001b[m\u001b[1m  12982.6 \u001b[m\u001b[mtotal,\u001b[m\u001b[m\u001b[1m   9721.7 \u001b[m\u001b[mfree,\u001b[m\u001b[m\u001b[1m    727.5 \u001b[m\u001b[mused,\u001b[m\u001b[m\u001b[1m   2533.4 \u001b[m\u001b[mbuff/cache\u001b[m\u001b[m\u001b[m\u001b[m\u001b[K\n",
            "MiB Swap:\u001b[m\u001b[m\u001b[1m      0.0 \u001b[m\u001b[mtotal,\u001b[m\u001b[m\u001b[1m      0.0 \u001b[m\u001b[mfree,\u001b[m\u001b[m\u001b[1m      0.0 \u001b[m\u001b[mused.\u001b[m\u001b[m\u001b[1m  11978.0 \u001b[m\u001b[mavail Mem \u001b[m\u001b[m\u001b[m\u001b[m\u001b[K\n",
            "\u001b[K\n",
            "\u001b[7m    PID USER      PR  NI    VIRT    RES    SHR S  %CPU  %MEM     TIME+ COMMAND                      \u001b[m\u001b[m\u001b[K\n",
            "\u001b[m      6 root      20   0  889912  50808  30724 S   6.7   0.4   0:02.79 node                         \u001b[m\u001b[m\u001b[K\n",
            "\u001b[m      1 root      20   0    1036      4      0 S   0.0   0.0   0:00.07 docker-init                  \u001b[m\u001b[m\u001b[K\n",
            "\u001b[m     16 root      20   0    7368   3480   3180 S   0.0   0.0   0:00.54 oom_monitor.sh               \u001b[m\u001b[m\u001b[K\n",
            "\u001b[m     18 root      20   0    7368   1828   1544 S   0.0   0.0   0:00.00 run.sh                       \u001b[m\u001b[m\u001b[K\n",
            "\u001b[m     19 root      20   0 1236424  11712   7296 S   0.0   0.1   0:00.43 kernel_manager_              \u001b[m\u001b[m\u001b[K\n",
            "\u001b[m     36 root      20   0    5800   1000    904 S   0.0   0.0   0:00.09 tail                         \u001b[m\u001b[m\u001b[K\n",
            "\u001b[m     54 root      20   0       0      0      0 Z   0.0   0.0   0:05.70 python3                      \u001b[m\u001b[m\u001b[K\n",
            "\u001b[m     55 root      20   0   67772  52896  18640 S   0.0   0.4   0:00.81 colab-fileshim.              \u001b[m\u001b[m\u001b[K\n",
            "\u001b[m    104 root      20   0  367352 120324  28780 S   0.0   0.9   0:04.04 jupyter-noteboo              \u001b[m\u001b[m\u001b[K\n",
            "\u001b[m    105 root      20   0 1228172   4844   2936 S   0.0   0.0   0:00.16 dap_multiplexer              \u001b[m\u001b[m\u001b[K\n",
            "\u001b[m    633 root      20   0 1294540 200468  67540 S   0.0   1.5   0:05.86 python3                      \u001b[m\u001b[m\u001b[K\n",
            "\u001b[m    690 root      20   0  538288  13068   4888 S   0.0   0.1   0:00.09 python3                      \u001b[m\u001b[m\u001b[K\n",
            "\u001b[m    725 root      20   0 1238152  14444   8100 S   0.0   0.1   0:00.30 language_servic              \u001b[m\u001b[m\u001b[K\n",
            "\u001b[m    734 root      20   0  917516 132084  30336 S   0.0   1.0   0:07.47 node                         \u001b[m\u001b[m\u001b[K\n",
            "\u001b[m   5467 root      20   0    5768   1004    908 S   0.0   0.0   0:00.00 sleep                        \u001b[m\u001b[m\u001b[K\n",
            "\u001b[m\u001b[1m   5468 root      20   0   10348   3592   3232 R   0.0   0.0   0:00.00 top                          \u001b[m\u001b[m\u001b[K\n",
            "\u001b[J\u001b[H\u001b[mtop - 05:41:52 up 21 min,  0 users,  load average: 0.16, 0.20, 0.18\u001b[m\u001b[m\u001b[m\u001b[m\u001b[K\n",
            "\n",
            "%Cpu(s):\u001b[m\u001b[m\u001b[1m  1.3 \u001b[m\u001b[mus,\u001b[m\u001b[m\u001b[1m  1.0 \u001b[m\u001b[msy,\u001b[m\u001b[m\u001b[1m  0.0 \u001b[m\u001b[mni,\u001b[m\u001b[m\u001b[1m 97.5 \u001b[m\u001b[mid,\u001b[m\u001b[m\u001b[1m  0.0 \u001b[m\u001b[mwa,\u001b[m\u001b[m\u001b[1m  0.0 \u001b[m\u001b[mhi,\u001b[m\u001b[m\u001b[1m  0.2 \u001b[m\u001b[msi,\u001b[m\u001b[m\u001b[1m  0.0 \u001b[m\u001b[mst\u001b[m\u001b[m\u001b[m\u001b[m\u001b[K\n",
            "MiB Mem :\u001b[m\u001b[m\u001b[1m  12982.6 \u001b[m\u001b[mtotal,\u001b[m\u001b[m\u001b[1m   9717.3 \u001b[m\u001b[mfree,\u001b[m\u001b[m\u001b[1m    731.9 \u001b[m\u001b[mused,\u001b[m\u001b[m\u001b[1m   2533.4 \u001b[m\u001b[mbuff/cache\u001b[m\u001b[m\u001b[m\u001b[m\u001b[K\n",
            "MiB Swap:\u001b[m\u001b[m\u001b[1m      0.0 \u001b[m\u001b[mtotal,\u001b[m\u001b[m\u001b[1m      0.0 \u001b[m\u001b[mfree,\u001b[m\u001b[m\u001b[1m      0.0 \u001b[m\u001b[mused.\u001b[m\u001b[m\u001b[1m  11973.7 \u001b[m\u001b[mavail Mem \u001b[m\u001b[m\u001b[m\u001b[m\u001b[K\n",
            "\u001b[K\n",
            "\n",
            "\u001b[m    104 root      20   0  367352 120324  28780 S   0.3   0.9   0:04.05 jupyter-noteboo              \u001b[m\u001b[m\u001b[K\n",
            "\u001b[m    633 root      20   0 1294540 200468  67540 S   0.3   1.5   0:05.87 python3                      \u001b[m\u001b[m\u001b[K\n",
            "\u001b[m      1 root      20   0    1036      4      0 S   0.0   0.0   0:00.07 docker-init                  \u001b[m\u001b[m\u001b[K\n",
            "\u001b[m      6 root      20   0  889912  51068  30724 S   0.0   0.4   0:02.79 node                         \u001b[m\u001b[m\u001b[K\n",
            "\u001b[m     16 root      20   0    7368   3480   3180 S   0.0   0.0   0:00.54 oom_monitor.sh               \u001b[m\u001b[m\u001b[K\n",
            "\u001b[m     18 root      20   0    7368   1828   1544 S   0.0   0.0   0:00.00 run.sh                       \u001b[m\u001b[m\u001b[K\n",
            "\u001b[m     19 root      20   0 1236424  11712   7296 S   0.0   0.1   0:00.43 kernel_manager_              \u001b[m\u001b[m\u001b[K\n",
            "\u001b[m     36 root      20   0    5800   1000    904 S   0.0   0.0   0:00.09 tail                         \u001b[m\u001b[m\u001b[K\n",
            "\u001b[m     54 root      20   0       0      0      0 Z   0.0   0.0   0:05.70 python3                      \u001b[m\u001b[m\u001b[K\n",
            "\u001b[m     55 root      20   0   67772  52896  18640 S   0.0   0.4   0:00.81 colab-fileshim.              \u001b[m\u001b[m\u001b[K\n",
            "\u001b[m    105 root      20   0 1228172   5068   2936 S   0.0   0.0   0:00.16 dap_multiplexer              \u001b[m\u001b[m\u001b[K\n",
            "\u001b[m    690 root      20   0  538288  13080   4888 S   0.0   0.1   0:00.09 python3                      \u001b[m\u001b[m\u001b[K\n",
            "\n",
            "\n",
            "\u001b[m\u001b[1m   5468 root      20   0   10348   3944   3360 R   0.0   0.0   0:00.00 top                          \u001b[m\u001b[m\u001b[K\n",
            "\u001b[m   5482 root      20   0    5768   1016    920 S   0.0   0.0   0:00.00 sleep                        \u001b[m\u001b[m\u001b[K\n",
            "\u001b[J\u001b[H\u001b[mtop - 05:41:55 up 21 min,  0 users,  load average: 0.15, 0.20, 0.18\u001b[m\u001b[m\u001b[m\u001b[m\u001b[K\n",
            "\n",
            "%Cpu(s):\u001b[m\u001b[m\u001b[1m  1.5 \u001b[m\u001b[mus,\u001b[m\u001b[m\u001b[1m  0.8 \u001b[m\u001b[msy,\u001b[m\u001b[m\u001b[1m  0.0 \u001b[m\u001b[mni,\u001b[m\u001b[m\u001b[1m 97.5 \u001b[m\u001b[mid,\u001b[m\u001b[m\u001b[1m  0.2 \u001b[m\u001b[mwa,\u001b[m\u001b[m\u001b[1m  0.0 \u001b[m\u001b[mhi,\u001b[m\u001b[m\u001b[1m  0.0 \u001b[m\u001b[msi,\u001b[m\u001b[m\u001b[1m  0.0 \u001b[m\u001b[mst\u001b[m\u001b[m\u001b[m\u001b[m\u001b[K\n",
            "MiB Mem :\u001b[m\u001b[m\u001b[1m  12982.6 \u001b[m\u001b[mtotal,\u001b[m\u001b[m\u001b[1m   9717.1 \u001b[m\u001b[mfree,\u001b[m\u001b[m\u001b[1m    732.0 \u001b[m\u001b[mused,\u001b[m\u001b[m\u001b[1m   2533.5 \u001b[m\u001b[mbuff/cache\u001b[m\u001b[m\u001b[m\u001b[m\u001b[K\n",
            "MiB Swap:\u001b[m\u001b[m\u001b[1m      0.0 \u001b[m\u001b[mtotal,\u001b[m\u001b[m\u001b[1m      0.0 \u001b[m\u001b[mfree,\u001b[m\u001b[m\u001b[1m      0.0 \u001b[m\u001b[mused.\u001b[m\u001b[m\u001b[1m  11973.5 \u001b[m\u001b[mavail Mem \u001b[m\u001b[m\u001b[m\u001b[m\u001b[K\n",
            "\u001b[K\n",
            "\n",
            "\u001b[m      6 root      20   0  889912  50640  30724 S   0.7   0.4   0:02.81 node                         \u001b[m\u001b[m\u001b[K\n",
            "\u001b[m    633 root      20   0 1294540 200468  67540 S   0.7   1.5   0:05.89 python3                      \u001b[m\u001b[m\u001b[K\n",
            "\u001b[m     19 root      20   0 1236424  11712   7296 S   0.3   0.1   0:00.44 kernel_manager_              \u001b[m\u001b[m\u001b[K\n",
            "\u001b[m     55 root      20   0   67772  52896  18640 S   0.3   0.4   0:00.82 colab-fileshim.              \u001b[m\u001b[m\u001b[K\n",
            "\u001b[m    690 root      20   0  538288  13080   4888 S   0.3   0.1   0:00.10 python3                      \u001b[m\u001b[m\u001b[K\n",
            "\u001b[m      1 root      20   0    1036      4      0 S   0.0   0.0   0:00.07 docker-init                  \u001b[m\u001b[m\u001b[K\n",
            "\u001b[m     16 root      20   0    7368   3480   3180 S   0.0   0.0   0:00.54 oom_monitor.sh               \u001b[m\u001b[m\u001b[K\n",
            "\u001b[m     18 root      20   0    7368   1828   1544 S   0.0   0.0   0:00.00 run.sh                       \u001b[m\u001b[m\u001b[K\n",
            "\u001b[m     36 root      20   0    5800   1000    904 S   0.0   0.0   0:00.09 tail                         \u001b[m\u001b[m\u001b[K\n",
            "\u001b[m     54 root      20   0       0      0      0 Z   0.0   0.0   0:05.70 python3                      \u001b[m\u001b[m\u001b[K\n",
            "\u001b[m    104 root      20   0  367352 120324  28780 S   0.0   0.9   0:04.05 jupyter-noteboo              \u001b[m\u001b[m\u001b[K\n",
            "\u001b[m    105 root      20   0 1228172   5068   2936 S   0.0   0.0   0:00.16 dap_multiplexer              \u001b[m\u001b[m\u001b[K\n",
            "\n",
            "\u001b[m    734 root      20   0  917516 132328  30336 S   0.0   1.0   0:07.47 node                         \u001b[m\u001b[m\u001b[K\n",
            "\n",
            "\u001b[m   5494 root      20   0    5768    996    904 S   0.0   0.0   0:00.00 sleep                        \u001b[m\u001b[m\u001b[K\n",
            "\u001b[J\u001b[?1l\u001b>\u001b[25;1H\n",
            "\u001b[K"
          ]
        }
      ]
    },
    {
      "cell_type": "code",
      "source": [
        "# 그래픽카드 정보 확인\n",
        "!nvidia-smi"
      ],
      "metadata": {
        "colab": {
          "base_uri": "https://localhost:8080/"
        },
        "id": "P-sslEmOP0TA",
        "outputId": "cec869ed-f77f-41de-c8cf-826140b56eef"
      },
      "execution_count": null,
      "outputs": [
        {
          "output_type": "stream",
          "name": "stdout",
          "text": [
            "Mon Nov 20 01:02:31 2023       \n",
            "+-----------------------------------------------------------------------------+\n",
            "| NVIDIA-SMI 525.105.17   Driver Version: 525.105.17   CUDA Version: 12.0     |\n",
            "|-------------------------------+----------------------+----------------------+\n",
            "| GPU  Name        Persistence-M| Bus-Id        Disp.A | Volatile Uncorr. ECC |\n",
            "| Fan  Temp  Perf  Pwr:Usage/Cap|         Memory-Usage | GPU-Util  Compute M. |\n",
            "|                               |                      |               MIG M. |\n",
            "|===============================+======================+======================|\n",
            "|   0  Tesla T4            Off  | 00000000:00:04.0 Off |                    0 |\n",
            "| N/A   59C    P8    10W /  70W |      0MiB / 15360MiB |      0%      Default |\n",
            "|                               |                      |                  N/A |\n",
            "+-------------------------------+----------------------+----------------------+\n",
            "                                                                               \n",
            "+-----------------------------------------------------------------------------+\n",
            "| Processes:                                                                  |\n",
            "|  GPU   GI   CI        PID   Type   Process name                  GPU Memory |\n",
            "|        ID   ID                                                   Usage      |\n",
            "|=============================================================================|\n",
            "|  No running processes found                                                 |\n",
            "+-----------------------------------------------------------------------------+\n"
          ]
        }
      ]
    },
    {
      "cell_type": "code",
      "source": [
        "# 리눅스 상식\n",
        "\n",
        "1. 모든 파일을 수정 할 때는 보편적으로 vim을 쓴다.\n",
        "2. sudo는 관리자 권한으로 명령을 내리는것\n",
        "3. apt install, pip install, conda install, apt-get install, pip3 install 차이는 어디 저장소를 통해서 다운로드 할건지의 차이\n",
        "4. 내부 ip 확인은 ifconfig"
      ],
      "metadata": {
        "id": "BE9vvlOJP9cl"
      },
      "execution_count": null,
      "outputs": []
    }
  ]
}